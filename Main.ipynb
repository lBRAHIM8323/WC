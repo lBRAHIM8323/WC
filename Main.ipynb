{
 "cells": [
  {
   "cell_type": "markdown",
   "id": "8d8e7634",
   "metadata": {},
   "source": [
    "### Import the necassary modules"
   ]
  },
  {
   "cell_type": "code",
   "execution_count": 1,
   "id": "35299228",
   "metadata": {},
   "outputs": [],
   "source": [
    "import requests\n",
    "from bs4 import BeautifulSoup"
   ]
  },
  {
   "cell_type": "markdown",
   "id": "ced8855b",
   "metadata": {},
   "source": [
    "#### URL to scrape data from."
   ]
  },
  {
   "cell_type": "code",
   "execution_count": 2,
   "id": "000275e1",
   "metadata": {},
   "outputs": [],
   "source": [
    "url = \"https://fbref.com/en/comps/1/World-Cup-Stats\""
   ]
  },
  {
   "cell_type": "code",
   "execution_count": 3,
   "id": "05750b78",
   "metadata": {},
   "outputs": [],
   "source": [
    "data = requests.get(url)"
   ]
  },
  {
   "cell_type": "markdown",
   "id": "21632927",
   "metadata": {},
   "source": [
    "#### Parsing the URL's HTML"
   ]
  },
  {
   "cell_type": "code",
   "execution_count": 4,
   "id": "a6cfe69a",
   "metadata": {},
   "outputs": [],
   "source": [
    "soup = BeautifulSoup(data.content, 'html.parser')"
   ]
  },
  {
   "cell_type": "markdown",
   "id": "8a2f5706",
   "metadata": {},
   "source": [
    "#### Getting the link of the two teams in match 1"
   ]
  },
  {
   "cell_type": "code",
   "execution_count": 5,
   "id": "694caf6c",
   "metadata": {},
   "outputs": [
    {
     "name": "stdout",
     "output_type": "stream",
     "text": [
      "<div class=\"match-summary\">\n",
      "<div class=\"match-date\">Dec 9</div>\n",
      "<div class=\"matchup-team team1\">\n",
      "<span class=\"f-i f-br\" style=\"\">br</span>\n",
      "<a href=\"/en/squads/304635c3/Brazil-Men-Stats\">Brazil</a>\n",
      "</div>\n",
      "<div class=\"match-detail\">\r\n",
      "\t\t\t\r\n",
      "\t\t\t\t\r\n",
      "\t\t\t\t\t–\r\n",
      "\t\t\t\t\r\n",
      "\t\t\t\r\n",
      "\t\t</div>\n",
      "<div class=\"matchup-team team2\">\n",
      "<a href=\"/en/squads/7b08e376/Croatia-Men-Stats\">Croatia</a>\n",
      "<span class=\"f-i f-hr\" style=\"\">hr</span>\n",
      "</div>\n",
      "</div>\n"
     ]
    }
   ],
   "source": [
    "first_match = soup.find_all(\"div\", class_=\"match-summary\")[0]\n",
    "print(first_match)"
   ]
  },
  {
   "cell_type": "code",
   "execution_count": 6,
   "id": "56bd81a6",
   "metadata": {},
   "outputs": [
    {
     "name": "stdout",
     "output_type": "stream",
     "text": [
      "Brazil V/s Croatia\n"
     ]
    }
   ],
   "source": [
    "first_match_team_1 = first_match.find(\"div\", {\"class\" : \"team1\"}).find('a').text\n",
    "first_match_team_2 = first_match.find(\"div\", {\"class\" : \"team2\"}).find('a').text\n",
    "print(first_match_team_1, \"V/s\", first_match_team_2)"
   ]
  },
  {
   "cell_type": "code",
   "execution_count": 7,
   "id": "d1d8d9af",
   "metadata": {},
   "outputs": [],
   "source": [
    "link_1 = first_match.find(\"div\", {\"class\" : \"team1\"}).find('a').get('href')\n",
    "#print(link_1)"
   ]
  },
  {
   "cell_type": "code",
   "execution_count": 8,
   "id": "e77b7da9",
   "metadata": {},
   "outputs": [],
   "source": [
    "link_2 = first_match.find(\"div\", {\"class\" : \"team2\"}).find('a').get('href')\n",
    "#print(link_2)"
   ]
  },
  {
   "cell_type": "code",
   "execution_count": 9,
   "id": "c16724f0",
   "metadata": {},
   "outputs": [],
   "source": [
    "url_a = \"https://fbref.com\""
   ]
  },
  {
   "cell_type": "code",
   "execution_count": 10,
   "id": "b1f55dd5",
   "metadata": {},
   "outputs": [
    {
     "name": "stdout",
     "output_type": "stream",
     "text": [
      "https://fbref.com/en/squads/304635c3/Brazil-Men-Stats\n"
     ]
    }
   ],
   "source": [
    "completed_link_1 = f\"{url_a}{link_1}\"\n",
    "print(completed_link_1)"
   ]
  },
  {
   "cell_type": "code",
   "execution_count": 11,
   "id": "53e40fed",
   "metadata": {},
   "outputs": [
    {
     "name": "stdout",
     "output_type": "stream",
     "text": [
      "https://fbref.com/en/squads/7b08e376/Croatia-Men-Stats\n"
     ]
    }
   ],
   "source": [
    "completed_link_2 = f\"{url_a}{link_2}\"\n",
    "print(completed_link_2)"
   ]
  },
  {
   "cell_type": "markdown",
   "id": "cfef2baa",
   "metadata": {},
   "source": [
    "## Brazil"
   ]
  },
  {
   "cell_type": "markdown",
   "id": "0a2f3f41",
   "metadata": {},
   "source": [
    "# ____________________________________________________________________________________________________________________________________"
   ]
  },
  {
   "cell_type": "code",
   "execution_count": 12,
   "id": "11903b10",
   "metadata": {},
   "outputs": [],
   "source": [
    "url2 = completed_link_1"
   ]
  },
  {
   "cell_type": "code",
   "execution_count": 13,
   "id": "d1fb2f59",
   "metadata": {},
   "outputs": [],
   "source": [
    "data2 = requests.get(url2)"
   ]
  },
  {
   "cell_type": "code",
   "execution_count": 14,
   "id": "12cdcb88",
   "metadata": {},
   "outputs": [],
   "source": [
    "soup2 = BeautifulSoup(data2.content, 'html.parser')"
   ]
  },
  {
   "cell_type": "code",
   "execution_count": 15,
   "id": "5986fe40",
   "metadata": {},
   "outputs": [],
   "source": [
    "table1 = soup2.select('div.table_container')[0]\n",
    "#print(table1)"
   ]
  },
  {
   "cell_type": "markdown",
   "id": "5923ccca",
   "metadata": {},
   "source": [
    "#### Links of all the players in the table"
   ]
  },
  {
   "cell_type": "code",
   "execution_count": 25,
   "id": "2490848c",
   "metadata": {},
   "outputs": [
    {
     "name": "stdout",
     "output_type": "stream",
     "text": [
      "https://fbref.com/en/players/7a2e46a8/Alisson\n",
      "https://fbref.com/en/players/c9e99e49/Dani-Alves\n",
      "https://fbref.com/en/players/99127249/Antony\n",
      "https://fbref.com/en/players/5fd5ed86/Gleison-Bremer\n",
      "https://fbref.com/en/players/4d224fe8/Casemiro\n",
      "https://fbref.com/en/players/94b2001f/Danilo\n",
      "https://fbref.com/en/players/3bb7b8b4/Ederson\n",
      "https://fbref.com/en/players/7f3b388c/Fabinho\n",
      "https://fbref.com/en/players/b853e0ad/Fred\n",
      "https://fbref.com/en/players/82518f62/Bruno-Guimaraes\n",
      "https://fbref.com/en/players/b66315ae/Gabriel-Jesus\n",
      "https://fbref.com/en/players/7111d552/Vinicius-Junior\n",
      "https://fbref.com/en/players/d5f2f82b/Marquinhos\n",
      "https://fbref.com/en/players/48a5a5d6/Martinelli\n",
      "https://fbref.com/en/players/2784f898/Eder-Militao\n",
      "https://fbref.com/en/players/69384e5d/Neymar\n",
      "https://fbref.com/en/players/9b6f7fd5/Lucas-Paqueta\n",
      "https://fbref.com/en/players/1ab6fad3/Pedro\n",
      "https://fbref.com/en/players/3423f250/Raphinha\n",
      "https://fbref.com/en/players/68fb50a2/Everton-Ribeiro\n",
      "https://fbref.com/en/players/fa031b34/Richarlison\n",
      "https://fbref.com/en/players/8f5e92a6/Rodrygo\n",
      "https://fbref.com/en/players/0d82903c/Alex-Sandro\n",
      "https://fbref.com/en/players/86e7deaf/Thiago-Silva\n",
      "https://fbref.com/en/players/e73c9bb2/Alex-Telles\n",
      "https://fbref.com/en/players/81be82e9/Weverton\n"
     ]
    }
   ],
   "source": [
    "for i in range(0,52,2):\n",
    "    a = table1.find_all(\"a\")[i]\n",
    "    b = a.get(\"href\")\n",
    "    player_link_2 = f\"{url_a}{b}\"\n",
    "    print(player_link_2)\n",
    "    a = list(player_link_2)\n",
    "    #print(a)"
   ]
  },
  {
   "cell_type": "markdown",
   "id": "046b4ee6",
   "metadata": {},
   "source": [
    "## Second"
   ]
  },
  {
   "cell_type": "code",
   "execution_count": 17,
   "id": "66446a66",
   "metadata": {},
   "outputs": [
    {
     "name": "stdout",
     "output_type": "stream",
     "text": [
      "<div class=\"match-summary\">\n",
      "<div class=\"match-date\">Dec 9</div>\n",
      "<div class=\"matchup-team team1\">\n",
      "<span class=\"f-i f-nl\" style=\"\">nl</span>\n",
      "<a href=\"/en/squads/5bb5024a/Netherlands-Men-Stats\">Netherlands</a>\n",
      "</div>\n",
      "<div class=\"match-detail\">\r\n",
      "\t\t\t\r\n",
      "\t\t\t\t\r\n",
      "\t\t\t\t\t–\r\n",
      "\t\t\t\t\r\n",
      "\t\t\t\r\n",
      "\t\t</div>\n",
      "<div class=\"matchup-team team2\">\n",
      "<a href=\"/en/squads/f9fddd6e/Argentina-Men-Stats\">Argentina</a>\n",
      "<span class=\"f-i f-ar\" style=\"\">ar</span>\n",
      "</div>\n",
      "</div>\n"
     ]
    }
   ],
   "source": [
    "second_match = soup.find_all(\"div\", class_ =\"match-summary\")[1]\n",
    "print(second_match)"
   ]
  },
  {
   "cell_type": "code",
   "execution_count": 18,
   "id": "a64e71f6",
   "metadata": {},
   "outputs": [
    {
     "name": "stdout",
     "output_type": "stream",
     "text": [
      "Netherlands V/s Argentina\n"
     ]
    }
   ],
   "source": [
    "second_match_team_1 = second_match.find(\"div\", {\"class\" : \"team1\"}).find('a').text\n",
    "second_match_team_2 = second_match.find(\"div\", {\"class\" : \"team2\"}).find('a').text\n",
    "print(second_match_team_1, \"V/s\", second_match_team_2)"
   ]
  },
  {
   "cell_type": "code",
   "execution_count": 19,
   "id": "96d2f464",
   "metadata": {},
   "outputs": [
    {
     "name": "stdout",
     "output_type": "stream",
     "text": [
      "/en/squads/5bb5024a/Netherlands-Men-Stats\n"
     ]
    }
   ],
   "source": [
    "link_sec_1 = second_match.find(\"div\", {\"class\" : \"matchup-team team1\"}).find(\"a\").get(\"href\")\n",
    "print(link_sec_1)"
   ]
  },
  {
   "cell_type": "code",
   "execution_count": 20,
   "id": "4b79eea9",
   "metadata": {},
   "outputs": [
    {
     "name": "stdout",
     "output_type": "stream",
     "text": [
      "/en/squads/f9fddd6e/Argentina-Men-Stats\n"
     ]
    }
   ],
   "source": [
    "link_sec_2 = second_match.find(\"div\", {\"class\" : \"matchup-team team2\"}).find(\"a\").get(\"href\")\n",
    "print(link_sec_2)"
   ]
  },
  {
   "cell_type": "code",
   "execution_count": 21,
   "id": "41bb7592",
   "metadata": {},
   "outputs": [
    {
     "name": "stdout",
     "output_type": "stream",
     "text": [
      "https://fbref.com/en/comps/1/World-Cup-Stats/en/squads/5bb5024a/Netherlands-Men-Stats\n"
     ]
    }
   ],
   "source": [
    "completed_link_1_sec = f\"{url}{link_sec_1}\"\n",
    "print(completed_link_1_sec)"
   ]
  },
  {
   "cell_type": "code",
   "execution_count": 22,
   "id": "eb2e4f2a",
   "metadata": {},
   "outputs": [
    {
     "name": "stdout",
     "output_type": "stream",
     "text": [
      "https://fbref.com/en/comps/1/World-Cup-Stats/en/squads/f9fddd6e/Argentina-Men-Stats\n"
     ]
    }
   ],
   "source": [
    "completed_link_2_sec = f\"{url}{link_sec_2}\"\n",
    "print(completed_link_2_sec)"
   ]
  },
  {
   "cell_type": "code",
   "execution_count": null,
   "id": "8c54ea5f",
   "metadata": {},
   "outputs": [],
   "source": []
  },
  {
   "cell_type": "code",
   "execution_count": null,
   "id": "1e6a7400",
   "metadata": {},
   "outputs": [],
   "source": []
  },
  {
   "cell_type": "code",
   "execution_count": null,
   "id": "8523946a",
   "metadata": {},
   "outputs": [],
   "source": []
  }
 ],
 "metadata": {
  "kernelspec": {
   "display_name": "Python 3 (ipykernel)",
   "language": "python",
   "name": "python3"
  },
  "language_info": {
   "codemirror_mode": {
    "name": "ipython",
    "version": 3
   },
   "file_extension": ".py",
   "mimetype": "text/x-python",
   "name": "python",
   "nbconvert_exporter": "python",
   "pygments_lexer": "ipython3",
   "version": "3.9.7"
  }
 },
 "nbformat": 4,
 "nbformat_minor": 5
}
